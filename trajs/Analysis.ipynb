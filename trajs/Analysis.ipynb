{
 "cells": [
  {
   "cell_type": "code",
   "execution_count": 2,
   "metadata": {},
   "outputs": [
    {
     "name": "stdout",
     "output_type": "stream",
     "text": [
      "全局平均reward:26.7\n",
      "全局平均turn:7.7\n",
      "用户主动的次数：10；比例为:1.0\n",
      "平均reward:26.7\n",
      "平均turn:7.7\n"
     ]
    }
   ],
   "source": [
    "import json\n",
    "import re\n",
    "import numpy as np  \n",
    "\n",
    "path = '/data1/shiwt/FireAct_latest/trajs/movie_train_0_10_gpt-3.5-turbo-16k_0.5_2023-11-12-22-07-58.json'\n",
    "\n",
    "with open(path) as f:\n",
    "    data = json.load(f)\n",
    "\n",
    "case1 = []\n",
    "case2 = []\n",
    "rewards_list = []\n",
    "turns_list = []\n",
    "for i, key in enumerate(data.keys()):\n",
    "    if key == 'reflections':\n",
    "        continue\n",
    "    traj = data[key]['traj']\n",
    "    if \"No Suitable film\" in traj:\n",
    "        case1.append(i)\n",
    "    elif \"User Stop\" in traj:\n",
    "        case2.append(i)\n",
    "    \n",
    "    rewards = re.findall(r\"reward=([\\d\\.]+)\", traj)\n",
    "    reward = 0\n",
    "    for temp in rewards:\n",
    "        reward = reward + float(temp)\n",
    "    rewards_list.append(reward)\n",
    "    turn = len(rewards)\n",
    "    turns_list.append(turn)\n",
    "\n",
    "\n",
    "print(f\"全局平均reward:{np.mean(np.array(rewards_list))}\")\n",
    "print(f\"全局平均turn:{np.mean(np.array(turns_list))}\")\n",
    "# print(f\"没有合适的商品的次数：{len(case1)}；比例为:{1.0*len(case1)/len(data.keys())}\")\n",
    "# rewards_list_1 = [rewards_list[i] for i in case1]\n",
    "# turns_list_1 = [turns_list[i] for i in case1]\n",
    "# print(f\"平均reward:{np.mean(np.array(rewards_list_1))}\")\n",
    "# print(f\"平均turn:{np.mean(np.array(turns_list_1))}\")\n",
    "print(f\"用户主动的次数：{len(case2)}；比例为:{1.0*len(case2)/len(data.keys())}\")\n",
    "rewards_list_2 = [rewards_list[i] for i in case2]\n",
    "turns_list_2 = [turns_list[i] for i in case2]\n",
    "print(f\"平均reward:{np.mean(np.array(rewards_list_2))}\")\n",
    "print(f\"平均turn:{np.mean(np.array(turns_list_2))}\")  \n"
   ]
  },
  {
   "cell_type": "code",
   "execution_count": 2,
   "metadata": {},
   "outputs": [
    {
     "name": "stdout",
     "output_type": "stream",
     "text": [
      "['2654', '1507', '3739', '4628', '4492', '4522', '2938', '3680', '701', '2888', '4947', '3079', '2409', '3061', '861', '2535', '4732', '1856', '3511', '5910', '1585', '5503', '5911', '3081', '333', '3824', '2663', '2414', '3120', '5523', '2529', '2470', '5199', '4256', '1988', '1619', '4918', '5202', '4798', '1112', '870', '650', '2046', '1067', '3204', '1289', '2096', '2089', '3863', '3486']\n"
     ]
    }
   ],
   "source": [
    "path = '/data1/shiwt/FireAct/trajs/movie_train_0_50_gpt-3.5-turbo_0.1_2023-10-27-16-01-12.json'\n",
    "\n",
    "with open(path) as f:\n",
    "    data = json.load(f)\n",
    "\n",
    "print(list(data.keys()))"
   ]
  },
  {
   "cell_type": "code",
   "execution_count": 9,
   "metadata": {},
   "outputs": [
    {
     "name": "stdout",
     "output_type": "stream",
     "text": [
      "0.9999998807907104\n",
      "8.545049112740344e-10\n",
      "0.47765552171145387\n"
     ]
    }
   ],
   "source": [
    "path = '/data1/shiwt/FireAct/env/movie/reward.mat'\n",
    "\n",
    "import numpy as np\n",
    "import pickle\n",
    "data = np.load(path)\n",
    "print(np.max(data))\n",
    "print(np.min(data))\n",
    "print(np.mean(data))"
   ]
  }
 ],
 "metadata": {
  "kernelspec": {
   "display_name": "fireact",
   "language": "python",
   "name": "python3"
  },
  "language_info": {
   "codemirror_mode": {
    "name": "ipython",
    "version": 3
   },
   "file_extension": ".py",
   "mimetype": "text/x-python",
   "name": "python",
   "nbconvert_exporter": "python",
   "pygments_lexer": "ipython3",
   "version": "3.9.0"
  }
 },
 "nbformat": 4,
 "nbformat_minor": 2
}
