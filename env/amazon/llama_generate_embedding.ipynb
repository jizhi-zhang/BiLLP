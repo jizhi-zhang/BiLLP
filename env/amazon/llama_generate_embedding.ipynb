{
 "cells": [
  {
   "cell_type": "code",
   "execution_count": 1,
   "metadata": {},
   "outputs": [
    {
     "name": "stderr",
     "output_type": "stream",
     "text": [
      "/data1/shiwt/anaconda3/envs/fireact/lib/python3.9/site-packages/tqdm/auto.py:22: TqdmWarning: IProgress not found. Please update jupyter and ipywidgets. See https://ipywidgets.readthedocs.io/en/stable/user_install.html\n",
      "  from .autonotebook import tqdm as notebook_tqdm\n",
      "Loading checkpoint shards: 100%|██████████| 2/2 [00:11<00:00,  5.90s/it]\n"
     ]
    }
   ],
   "source": [
    "from transformers import GenerationConfig, AutoModel, AutoTokenizer\n",
    "import transformers\n",
    "import torch\n",
    "import os\n",
    "import math\n",
    "import json\n",
    "\n",
    "os.environ[\"CUDA_VISIBLE_DEVICES\"] = '1'\n",
    "\n",
    "base_model = \"/data1/shiwt/LLaMA2/llama-2-hf-7b/\"\n",
    "tokenizer = AutoTokenizer.from_pretrained(base_model)\n",
    "model = AutoModel.from_pretrained(\n",
    "    base_model,\n",
    "    torch_dtype=torch.float16,\n",
    "    device_map=\"auto\",\n",
    ")\n",
    "\n"
   ]
  },
  {
   "cell_type": "code",
   "execution_count": 2,
   "metadata": {},
   "outputs": [],
   "source": [
    "model.config.pad_token_id = tokenizer.pad_token_id = 0  # unk\n",
    "model.config.bos_token_id = 1\n",
    "model.config.eos_token_id = 2\n",
    "model.eval()\n",
    "\n",
    "tokenizer.padding_side = \"left\"\n"
   ]
  },
  {
   "cell_type": "code",
   "execution_count": 3,
   "metadata": {},
   "outputs": [
    {
     "name": "stdout",
     "output_type": "stream",
     "text": [
      "13864\n",
      "13864\n"
     ]
    }
   ],
   "source": [
    "import json\n",
    "\n",
    "with open(\"./datamaps.json\") as f:\n",
    "    data = json.load(f)\n",
    "    id2item = data['id2item_dict']\n",
    "    item2id = data['item2id_dict']\n",
    "    items = list(item2id.keys())\n",
    "    tasks = [f'The type of {item} book is' for item in items]\n",
    "\n",
    "print(len(data['id2item_dict']))\n",
    "print(len(data['item2id_dict']))"
   ]
  },
  {
   "cell_type": "code",
   "execution_count": 4,
   "metadata": {},
   "outputs": [
    {
     "name": "stderr",
     "output_type": "stream",
     "text": [
      "867it [00:53, 16.21it/s]\n"
     ]
    },
    {
     "name": "stdout",
     "output_type": "stream",
     "text": [
      "torch.Size([13864, 4096])\n",
      "torch.Size([13864])\n",
      "torch.Size([13864, 4096])\n"
     ]
    }
   ],
   "source": [
    "from tqdm import tqdm\n",
    "import numpy as np \n",
    "import json\n",
    "\n",
    "# with open(\"./test_id_list.json\", \"r\") as file:\n",
    "#     json_str = file.read()\n",
    "# test_id_list = json.loads(json_str)\n",
    "\n",
    "def batch(list, list2, batch_size=1):\n",
    "    chunk_size = (len(list) - 1) // batch_size + 1\n",
    "    for i in range(chunk_size):\n",
    "        yield (list[batch_size * i: batch_size * (i + 1)], list2[batch_size * i: batch_size * (i + 1)])\n",
    "\n",
    "\n",
    "movie_embeddings = []\n",
    "id_indexs = []\n",
    "for i, batch_i in tqdm(enumerate(batch(tasks, items, 16))):\n",
    "    batch_input = batch_i[0]\n",
    "    batch_item = batch_i[1]\n",
    "    input = tokenizer(batch_input, return_tensors=\"pt\", padding=True)\n",
    "    input = input.to('cuda')\n",
    "    input_ids = input.input_ids\n",
    "    attention_mask = input.attention_mask\n",
    "    outputs = model(input_ids, attention_mask=attention_mask, output_hidden_states=True)\n",
    "    hidden_states = outputs.hidden_states\n",
    "    movie_embeddings.append(hidden_states[-1][:, -1, :].detach().cpu())\n",
    "    id_indexs.append(torch.Tensor([item2id[it] for it in batch_item]))\n",
    "\n",
    "data = {}    \n",
    "embeddings = torch.cat(movie_embeddings, dim=0)\n",
    "indexs = torch.cat(id_indexs, dim=0)\n",
    "print(embeddings.shape)\n",
    "print(indexs.shape)\n",
    "\n",
    "# indices = torch.LongTensor([i for i, val in enumerate(indexs) if val.item() in test_id_list])\n",
    "indices = torch.LongTensor([i for i, val in enumerate(indexs)])\n",
    "data['embeddings'] = embeddings[indices]\n",
    "data['indexs'] = indexs[indices]\n",
    "print(data['embeddings'].shape)\n",
    "\n",
    "torch.save(data, './amazon_embedding_task.pt')"
   ]
  },
  {
   "cell_type": "code",
   "execution_count": null,
   "metadata": {},
   "outputs": [],
   "source": []
  }
 ],
 "metadata": {
  "kernelspec": {
   "display_name": "fireact",
   "language": "python",
   "name": "python3"
  },
  "language_info": {
   "codemirror_mode": {
    "name": "ipython",
    "version": 3
   },
   "file_extension": ".py",
   "mimetype": "text/x-python",
   "name": "python",
   "nbconvert_exporter": "python",
   "pygments_lexer": "ipython3",
   "version": "3.9.18"
  }
 },
 "nbformat": 4,
 "nbformat_minor": 2
}
