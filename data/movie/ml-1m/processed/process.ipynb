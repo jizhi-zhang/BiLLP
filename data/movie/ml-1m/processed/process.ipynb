{
 "cells": [
  {
   "cell_type": "code",
   "execution_count": null,
   "metadata": {},
   "outputs": [],
   "source": [
    "import jsonlines\n",
    "from copy import deepcopy\n",
    "import pandas as pd\n",
    "\n",
    "data_df = pd.read_csv('./full_sequence_df.csv',sep=\"\\t\")\n",
    "\n"
   ]
  },
  {
   "cell_type": "code",
   "execution_count": null,
   "metadata": {},
   "outputs": [],
   "source": [
    "import json\n",
    "import ast\n",
    "with open('./datamaps.json') as file:\n",
    "    datamap = json.load(file)\n",
    "# replace id with name\n",
    "def process_movielens_name(s, datamap):\n",
    "    s = [datamap[\"id2item_dict\"][str(i)] for i in ast.literal_eval(s)]\n",
    "    return s\n",
    "data_df[\"pos_seq\"] = data_df[\"pos_seq\"].apply(lambda x: process_movielens_name(x, datamap))\n"
   ]
  },
  {
   "cell_type": "code",
   "execution_count": 19,
   "metadata": {},
   "outputs": [],
   "source": [
    "\n",
    "system_template = \"\"\" Please generate recommendation for users based on their historical interactions. You should first think about what are the interests of this user, and how should items be recommended based on those interests, so as to meet the user's interest as much as possible. Each time you successfully recommend a item, you will get a certain revenue, and the more users like the product, the higher the revenue. You goal is to get the most long-term revenue.\n",
    "The output contains two part ##Plan and ##Output. \n",
    "##Plan refers to what are the interests of this user, and based on this, how should you recommend items.\n",
    "##Output is the detailed recommendation, which is in the format [\"item_1\", \"item_2\", ...]. Don't include other information.\n",
    "\"\"\"\n",
    "\n",
    "user_template = \"\"\"The item list that the user has historically interacted with is {}\n",
    "\"\"\"\n",
    "\n",
    "file = open(\"./request.json\", 'w')\n",
    "request_json = []\n",
    "# data = data[:10]\n",
    "for i in range(len(data_df)):\n",
    "    messages = [\n",
    "        {'role': 'system', 'content': system_template}, \n",
    "        {'role': 'user', 'content':user_template.format(str(data_df.iloc[i, 3]))}\n",
    "    ]\n",
    "    temp_dict = {\n",
    "        \"index\": i,\n",
    "        \"request_json\": {\n",
    "        \"model\": \"gpt-3.5-turbo-0613\",\n",
    "        # \"model\": \"text-davinci-003\",\n",
    "        \"messages\": messages,\n",
    "        \"temperature\":0.2,\n",
    "        \"top_p\":1.0,\n",
    "        \"n\": 1,\n",
    "        \"frequency_penalty\":0,\n",
    "        \"presence_penalty\":0,\n",
    "        'max_tokens': 5000\n",
    "        }\n",
    "    }\n",
    "    file.write(json.dumps(temp_dict) + '\\n')\n",
    "\n",
    "file.close()\n"
   ]
  },
  {
   "cell_type": "code",
   "execution_count": 7,
   "metadata": {},
   "outputs": [
    {
     "name": "stdout",
     "output_type": "stream",
     "text": [
      "{\n",
      "  \"choices\": [\n",
      "    {\n",
      "      \"finish_reason\": \"stop\",\n",
      "      \"index\": 0,\n",
      "      \"message\": {\n",
      "        \"content\": \"There are several reasons why DevOps engineers should learn Kubernetes:\\n\\n1. Containerization: Kubernetes is a powerful container orchestration tool that allows you to manage and scale containers efficiently. As a DevOps engineer, understanding Kubernetes will enable you to effectively deploy and manage applications in containers, making it easier to build and deploy applications consistently across different environments.\\n\\n2. Scalability: Kubernetes facilitates the scaling of applications horizontally by automatically distributing containers across different nodes in a cluster. With Kubernetes, you can easily handle traffic spikes or scale down your applications based on demand, ensuring optimal performance.\\n\\n3. Automation: Kubernetes provides robust automation capabilities, allowing you to automate various manual tasks and workflows. By leveraging Kubernetes, you can automate application deployment, scaling, monitoring, and recovery, enhancing productivity and reducing human error.\\n\\n4. Efficiency: Kubernetes simplifies the management of complex, distributed systems, making it more efficient and reducing the time and effort required to deploy, manage, and update applications. It enables you to abstract away infrastructure details, providing a consistent and unified interface.\\n\\n5. Collaboration: Kubernetes promotes collaboration between different teams involved in the development and deployment lifecycle. With Kubernetes, developers and operations teams can work together more effectively, enabling faster application delivery and faster response to customer needs.\\n\\n6. Portability: Kubernetes allows you to build applications that are portable across different environments, whether it's on-premises, in the cloud, or in a hybrid environment. This enables you to avoid vendor lock-in and easily migrate applications across different platforms as needed.\\n\\nOverall, learning Kubernetes as a DevOps engineer can greatly enhance your ability to effectively manage containerized applications, automate workflows, improve scalability, and collaborate with other teams, ultimately leading to more efficient and successful software delivery.\",\n",
      "        \"role\": \"assistant\"\n",
      "      }\n",
      "    }\n",
      "  ],\n",
      "  \"created\": 1697354096,\n",
      "  \"id\": \"chatcmpl-CpQJzpNRi9GKpv0w8qQ2Ao4IliEUP\",\n",
      "  \"model\": \"gpt-3.5-turbo-0613\",\n",
      "  \"object\": \"chat.completion\",\n",
      "  \"usage\": {\n",
      "    \"completion_tokens\": 347,\n",
      "    \"prompt_tokens\": 25,\n",
      "    \"total_tokens\": 372\n",
      "  }\n",
      "}\n"
     ]
    }
   ],
   "source": [
    "import openai\n",
    "openai.api_base = 'https://api.openai-proxy.org/v1'\n",
    "openai.api_key = 'sk-DrjDFXCYqTMp0nwT40EtVbhVkuuFfUg02UmE2jV7fNq981uo'\n",
    "\n",
    "if __name__ == '__main__':\n",
    "\n",
    "  response = openai.ChatCompletion.create(\n",
    "    model=\"gpt-3.5-turbo\",\n",
    "    messages=[\n",
    "      {\"role\": \"system\", \"content\": \"You are a chatbot\"},\n",
    "      {\"role\": \"user\", \"content\": \"Why should DevOps engineer learn kubernetes?\"},\n",
    "    ]\n",
    "  )\n",
    "\n",
    "  print(response)"
   ]
  }
 ],
 "metadata": {
  "kernelspec": {
   "display_name": "base",
   "language": "python",
   "name": "python3"
  },
  "language_info": {
   "codemirror_mode": {
    "name": "ipython",
    "version": 3
   },
   "file_extension": ".py",
   "mimetype": "text/x-python",
   "name": "python",
   "nbconvert_exporter": "python",
   "pygments_lexer": "ipython3",
   "version": "3.8.8"
  }
 },
 "nbformat": 4,
 "nbformat_minor": 2
}
